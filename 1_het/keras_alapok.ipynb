{
 "cells": [
  {
   "cell_type": "markdown",
   "metadata": {},
   "source": [
    "# Keras alapok, Jupyter demo\n",
    "\n",
    "Ebben a munkafüzetben fogunk megismerkedni a Keras framework alapvető tulajdonságaival. A feldolgozáshoz célszerű cellánként haladni, futtatni, esetleg módosítani a kódot."
   ]
  },
  {
   "cell_type": "code",
   "execution_count": null,
   "metadata": {},
   "outputs": [],
   "source": [
    "import random\n",
    "import numpy as np\n",
    "import matplotlib.pyplot as plt"
   ]
  },
  {
   "cell_type": "markdown",
   "metadata": {},
   "source": [
    "1000 darab tanítómintát generálunk, amelyek esetén két leíró tulajdonság alapján szeretnénk majd a klasszifikációt elvégezni. A mintákat $X$, $1000 \\times 2$ mátrixba fogjuk majd tárolni. A mintákhoz tartozó címkék $Y$, $1000 \\times 1$ mátrixba kerülnek."
   ]
  },
  {
   "cell_type": "code",
   "execution_count": null,
   "metadata": {},
   "outputs": [],
   "source": [
    "X = np.zeros((1000, 2))\n",
    "Y = np.zeros((1000, 1))"
   ]
  },
  {
   "cell_type": "markdown",
   "metadata": {},
   "source": [
    "Adatok begyűjtésénél fontos szempont hogy minden elérhető típusból ugyanannyi darabbal rendelkezzünk: mi most bináris klasszifikációhoz generálunk adatokat, így az ideális eset ha az összesen $1000$ mintából $500$ az egyik, $500$ a másik osztályba sorolt.\n",
    "\n",
    "Ennélfogva a generálás is működhet úgy, hogy minden páros elem $0$, minden páratlan elem pedig $1$ címkét kap."
   ]
  },
  {
   "cell_type": "code",
   "execution_count": null,
   "metadata": {},
   "outputs": [],
   "source": [
    "for i in range(1000):\n",
    "    if i % 2 == 0:\n",
    "        val = random.uniform(0, 1.0)\n",
    "        X[i, :] = [val, random.uniform(val, 1.0)]\n",
    "    else:\n",
    "        val = random.uniform(0, 1.0)\n",
    "        X[i, :] = [val, random.uniform(0.0, val)]\n",
    "        Y[i] = 1"
   ]
  },
  {
   "cell_type": "markdown",
   "metadata": {},
   "source": [
    "Rajzoljuk ki az értékeket! A Jupyter notebook nagy előnye hogy a plotok itt a webes felületen jelennek meg.\n",
    "A _scatter_ plot egy olyan diagramot jelenít meg, amelyen az egyes $x \\in X$ elemek úgy vannak elhelyezve, hogy a vízszintes tengelyen $x[0]$, a függőleges tengelyen pedig $x[1]$ érték van figyelembevéve."
   ]
  },
  {
   "cell_type": "code",
   "execution_count": null,
   "metadata": {},
   "outputs": [],
   "source": [
    "plt.scatter(X[:, 0], X[:, 1])\n",
    "plt.show()"
   ]
  },
  {
   "cell_type": "markdown",
   "metadata": {},
   "source": [
    "Ez persze így nem barátságos, hisz minden elemnek ugyanaz a színe. A *.scatter()* metódusnak átadható egy $c$ attribútum, amely a színi információt hordozza az egyes elemekhez RGB formátumban.\n",
    "Ehhez $Y$-t át kell alakítani $1000 \\times 1$ alakról $1000 \\times 3$ alakúra úgy, hogy az egyes értékekhez RGB színek tartozzanak.\n",
    "\n",
    "A vektorok felépítése $[R, G, B]$, ahol $R$, $G$ és $B$ jelenti a három főkomponenst, amelyek értéke $[0; 1]$ tartományon adott.\n",
    "\n",
    "Az alábbi példát úgy dolgoztam ki, hogy az egyes $y \\in Y$ elemekre $y = 0$ esetén zöld legyen az érték (azaz $[0, 1, 0]$ vektorra képezze le az értékeket), míg $y = 1$ esetén kék legyen ($[0, 0, 1]$).\n",
    "\n",
    "List comprehension:"
   ]
  },
  {
   "cell_type": "code",
   "execution_count": null,
   "metadata": {},
   "outputs": [],
   "source": [
    "[[0, 1-Y[i, 0], Y[i, 0]] for i in range(1000)]"
   ]
  },
  {
   "cell_type": "markdown",
   "metadata": {},
   "source": [
    "Ez alapján a plot rögtön színesebb lesz:"
   ]
  },
  {
   "cell_type": "code",
   "execution_count": null,
   "metadata": {},
   "outputs": [],
   "source": [
    "plt.scatter(X[:, 0], X[:, 1], c=[[0, 1-Y[i, 0], Y[i, 0]] for i in range(1000)])\n",
    "plt.show()"
   ]
  },
  {
   "cell_type": "markdown",
   "metadata": {},
   "source": [
    "A korábban tanultaknak megfelelően az adathalmazunkat két részre bontjuk: tanító és validációs halmazra. $1000$ mintából legyen $900$ tanítóminta és a maradék $100$ validációs minta.\n",
    "\n",
    "Mivel a minták generálásakor ügyeltünk a kiegyensúlyozottságra - azaz minden páros sorszámú minta $0$, minden páratlan sorszámú pedig $1$, a gyakorlatban szétvágás után is marad a kiegyensúlyozottság."
   ]
  },
  {
   "cell_type": "code",
   "execution_count": null,
   "metadata": {},
   "outputs": [],
   "source": [
    "split = int(X.shape[0] * 0.9)\n",
    "\n",
    "train_X, valid_X = X[:split, :], X[split:, :]\n",
    "train_Y, valid_Y = Y[:split, :], Y[split:, :]"
   ]
  },
  {
   "cell_type": "markdown",
   "metadata": {},
   "source": [
    "A biztonság kedvéért azért nézzük meg hogy néz ki a validációs halmaz:\n",
    "*(Ez a kód teljesen ugyanaz mint fentebb volt, csak most $valid\\_X$ és $valid\\_Y$ szerint)*"
   ]
  },
  {
   "cell_type": "code",
   "execution_count": null,
   "metadata": {},
   "outputs": [],
   "source": [
    "plt.scatter(valid_X[:, 0], valid_X[:, 1], c=[[0, 1-valid_Y[i, 0], valid_Y[i, 0]] for i in range(valid_X.shape[0])])\n",
    "plt.show()"
   ]
  },
  {
   "cell_type": "markdown",
   "metadata": {},
   "source": [
    "Alkossunk egy egyszerű hálózatot a klasszifikációra: az egyes rétegekben a neuronok száma legyen\n",
    "$2 \\rightarrow 3 \\rightarrow 1$,\n",
    "a kimeneti réteg *sigmoid* aktivációjú legyen, a többi rétegben ez legyen *ReLU*. A *kernel_initializer* és a *bias_initializer* a tanítható paraméterek kezdőértékének generálási módját adja meg: https://keras.io/initializers/\n",
    "\n",
    "Az optimizer legyen *Adam*, vagy *SGD* vagy *RMSProp*: https://keras.io/optimizers/"
   ]
  },
  {
   "cell_type": "code",
   "execution_count": null,
   "metadata": {},
   "outputs": [],
   "source": [
    "from keras import Sequential\n",
    "from keras.callbacks import Callback\n",
    "from keras.layers import Dense\n",
    "\n",
    "input_params = train_X.shape[1]\n",
    "\n",
    "model = Sequential()\n",
    "model.add(Dense(input_params, input_shape=(input_params, ), activation='relu', \n",
    "                kernel_initializer='random_uniform',bias_initializer='zeros'))\n",
    "model.add(Dense(3, activation='relu', kernel_initializer='random_uniform',\n",
    "                bias_initializer='zeros'))\n",
    "model.add(Dense(1, activation='sigmoid', kernel_initializer='random_uniform',\n",
    "                bias_initializer='zeros'))\n",
    "\n",
    "model.compile(optimizer='adam',\n",
    "              loss='binary_crossentropy',\n",
    "              metrics=['accuracy'])"
   ]
  },
  {
   "cell_type": "markdown",
   "metadata": {},
   "source": [
    "Tanítsuk a modellt, először csak $10$ epochon keresztül. Ha a *validation_data* paraméternek értéket adunk, akkor minden epoch végén végez egy validációs vizsgálatot is, így folyamatosan láthatjuk hogy hogy tanul a modell."
   ]
  },
  {
   "cell_type": "code",
   "execution_count": null,
   "metadata": {},
   "outputs": [],
   "source": [
    "model.fit(train_X, train_Y, epochs=10,\n",
    "          validation_data=(valid_X, valid_Y))"
   ]
  },
  {
   "cell_type": "markdown",
   "metadata": {},
   "source": [
    "Érezzük, hogy ez rengeteg szükségtelen infó kiírását jelenti, főleg ha a nagyobb hatásfok eléréséhez jóval nagyobb epochszámban fogjuk végezni a tanítást. A *.fit()* függvény paraméterei között a *verbose* átállításával letiltható a kimenet.\n",
    "\n",
    "Ahhoz hogy időnként azért kapjunk visszajelzést, definiálhatunk egy callbacket: ez így ebben a formájában minden epoch végén meghívódik, és $100$ epochonként kiírja a *logs* tartalmát - ebben benne van a tanítómintákra és validációs halmazra számolt loss és accuracy."
   ]
  },
  {
   "cell_type": "code",
   "execution_count": null,
   "metadata": {},
   "outputs": [],
   "source": [
    "class MyCallback(Callback):\n",
    "    def on_epoch_end(self, epoch, logs=None):\n",
    "        if epoch % 100 == 0:\n",
    "            print(epoch + 1, logs)"
   ]
  },
  {
   "cell_type": "code",
   "execution_count": null,
   "metadata": {},
   "outputs": [],
   "source": [
    "model.fit(train_X, train_Y, epochs=300,\n",
    "          batch_size = 500,\n",
    "          verbose = 0,  #default: 1\n",
    "          callbacks=[MyCallback()],\n",
    "          validation_data=(valid_X, valid_Y))"
   ]
  },
  {
   "cell_type": "markdown",
   "metadata": {},
   "source": [
    "A *batch_size* alapesetben 32, ez a tanítás gyorsítása érdekében növelhető. Mivel relatíve kevés a minta, akár maximális érték is adható neki ($1000$)."
   ]
  },
  {
   "cell_type": "markdown",
   "metadata": {},
   "source": [
    "Tanítás után próbálkozzunk meg felmérni a modell teljesítményét! Első körben nézzük meg, milyen válaszokat ad a validációs halmaz adataira."
   ]
  },
  {
   "cell_type": "code",
   "execution_count": null,
   "metadata": {},
   "outputs": [],
   "source": [
    "model.predict(valid_X)"
   ]
  },
  {
   "cell_type": "markdown",
   "metadata": {},
   "source": [
    "A predikció eredménye $[0; 1]$ közötti valós érték, míg a tanításnál alkalmazott címke eredetileg $0$ vagy $1$ egész érték volt. A triviális megközelítés, ha a kapott értékeket $0.5$ felett $1$-re, alatta $0$-ra állítjuk:"
   ]
  },
  {
   "cell_type": "code",
   "execution_count": null,
   "metadata": {},
   "outputs": [],
   "source": [
    "pred_Y = model.predict(valid_X) > 0.5"
   ]
  },
  {
   "cell_type": "markdown",
   "metadata": {},
   "source": [
    "Így a korábban látott módon kirajzolható a szórásdiagram."
   ]
  },
  {
   "cell_type": "code",
   "execution_count": null,
   "metadata": {},
   "outputs": [],
   "source": [
    "plt.scatter(valid_X[:, 0], valid_X[:, 1], c=[[0, 1-pred_Y[i, 0], pred_Y[i, 0]] for i in range(valid_X.shape[0])])\n",
    "plt.show()"
   ]
  },
  {
   "cell_type": "markdown",
   "metadata": {},
   "source": [
    "Érdekesség, hogy kirajzolásnál szépen megjeleníthető a *bizonytalanság*. Minél távolabb van adott $y$ érték $0.5$-től, annál biztosabb a modell a predikcióban. Ennek továbbgondolásaként belátható, hogy minél közelebb van egy kimeneti érték $0.5$-höz, az annál bizonytalanabbnak tekinthető.\n",
    "\n",
    "Ha a korábban fent definiált színezést ismét megvizsgáljuk, akkor látható, hogy $y$ nyers értékét használva:\n",
    "- a szín $y = 0$ esetén $[0, 1, 0]$, azaz <span style=\"color:#0f0\">zöld</span>\n",
    "- a szín $y = 1$ esetén $[0, 0, 1]$, azaz <span style=\"color:#00f\">kék</span>\n",
    "- a szín $y = 0.5$ esetén $[0, 0.5, 0.5]$, azaz <span style=\"color:#088\">kékes-zöld</span>\n",
    "\n",
    "Kirajzolva szépen meg is jelenik a határvonal körüli bizonytalanság:"
   ]
  },
  {
   "cell_type": "code",
   "execution_count": null,
   "metadata": {},
   "outputs": [],
   "source": [
    "raw_pred_Y = model.predict(valid_X)\n",
    "plt.scatter(valid_X[:, 0], valid_X[:, 1], c=[[0, 1-raw_pred_Y[i, 0], raw_pred_Y[i, 0]] for i in range(valid_X.shape[0])])\n",
    "plt.show()"
   ]
  },
  {
   "cell_type": "markdown",
   "metadata": {},
   "source": [
    "Ha szeretnénk, a modell predikciós képességét tesztelhetjük új adatokkal is. Ehhez persze sokkal szebb lenne egy korábban definiált függvényt újrahasznosítani - én most bemásolom egy fentebbi cella tartalmát."
   ]
  },
  {
   "cell_type": "code",
   "execution_count": null,
   "metadata": {},
   "outputs": [],
   "source": [
    "test_X = np.zeros([5000,2])\n",
    "\n",
    "for i in range(5000):\n",
    "    if i % 2 == 0:\n",
    "        val = random.uniform(0, 1.0)\n",
    "        test_X[i, :] = [val, random.uniform(val, 1.0)]\n",
    "    else:\n",
    "        val = random.uniform(0, 1.0)\n",
    "        test_X[i, :] = [val, random.uniform(0.0, val)]\n",
    "\n",
    "raw_pred_test_Y = model.predict(test_X)\n",
    "plt.scatter(test_X[:, 0], test_X[:, 1], \n",
    "            c=[[0, 1-raw_pred_test_Y[i, 0], raw_pred_test_Y[i, 0]] for i in range(test_X.shape[0])])\n",
    "plt.show()"
   ]
  }
 ],
 "metadata": {
  "kernelspec": {
   "display_name": "Python 3",
   "language": "python",
   "name": "python3"
  },
  "language_info": {
   "codemirror_mode": {
    "name": "ipython",
    "version": 3
   },
   "file_extension": ".py",
   "mimetype": "text/x-python",
   "name": "python",
   "nbconvert_exporter": "python",
   "pygments_lexer": "ipython3",
   "version": "3.7.3"
  }
 },
 "nbformat": 4,
 "nbformat_minor": 2
}
